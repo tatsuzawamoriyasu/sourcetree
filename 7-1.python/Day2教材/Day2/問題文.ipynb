{
 "cells": [
  {
   "cell_type": "code",
   "execution_count": 3,
   "metadata": {},
   "outputs": [
    {
     "name": "stdout",
     "output_type": "stream",
     "text": [
      "2×1=2\n",
      "2×2=4\n",
      "2×3=6\n",
      "2×4=8\n",
      "2×5=10\n",
      "2×6=12\n",
      "2×7=14\n",
      "2×8=16\n",
      "2×9=18\n"
     ]
    }
   ],
   "source": [
    "for i in range(1,10):\n",
    "    print(f\"2×{i}={2*i}\")"
   ]
  },
  {
   "cell_type": "code",
   "execution_count": 15,
   "metadata": {},
   "outputs": [],
   "source": [
    "class Human:\n",
    "    def __init__(self):\n",
    "        self.health = 100\n",
    "        self.time = 10\n",
    "        self.achieve = 0\n",
    "    def work(self):\n",
    "        self.health = self.health -50\n",
    "        self.time = self.time - 1\n",
    "        self.achieve = self.achieve + 1\n",
    "    def rest(self):\n",
    "        self.time = self.time - 3\n",
    "        self.health = self.health + 50"
   ]
  },
  {
   "cell_type": "code",
   "execution_count": 16,
   "metadata": {},
   "outputs": [
    {
     "data": {
      "text/plain": [
       "100"
      ]
     },
     "execution_count": 16,
     "metadata": {},
     "output_type": "execute_result"
    }
   ],
   "source": [
    "human1 = Human()\n",
    "human1.health"
   ]
  },
  {
   "cell_type": "code",
   "execution_count": 17,
   "metadata": {},
   "outputs": [
    {
     "data": {
      "text/plain": [
       "50"
      ]
     },
     "execution_count": 17,
     "metadata": {},
     "output_type": "execute_result"
    }
   ],
   "source": [
    "human1.work()\n",
    "human1.health"
   ]
  },
  {
   "cell_type": "code",
   "execution_count": null,
   "metadata": {},
   "outputs": [],
   "source": []
  }
 ],
 "metadata": {
  "kernelspec": {
   "display_name": "Python 3",
   "language": "python",
   "name": "python3"
  },
  "language_info": {
   "codemirror_mode": {
    "name": "ipython",
    "version": 3
   },
   "file_extension": ".py",
   "mimetype": "text/x-python",
   "name": "python",
   "nbconvert_exporter": "python",
   "pygments_lexer": "ipython3",
   "version": "3.7.3"
  }
 },
 "nbformat": 4,
 "nbformat_minor": 2
}
