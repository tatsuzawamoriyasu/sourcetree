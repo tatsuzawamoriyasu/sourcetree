{
 "cells": [
  {
   "cell_type": "markdown",
   "metadata": {},
   "source": [
    "# Day2 Python基礎文法②"
   ]
  },
  {
   "cell_type": "markdown",
   "metadata": {},
   "source": [
    "# 関数"
   ]
  },
  {
   "cell_type": "code",
   "execution_count": 34,
   "metadata": {},
   "outputs": [
    {
     "name": "stdout",
     "output_type": "stream",
     "text": [
      "3.605551275463989\n",
      "6.4031242374328485\n",
      "9.219544457292887\n"
     ]
    }
   ],
   "source": [
    "a = (2**2 + 3**2)**(1/2) \n",
    "b = (4**2 + 5**2)**(1/2)\n",
    "c = (6**2 + 7**2)**(1/2)\n",
    "print(a)\n",
    "print(b)\n",
    "print(c)"
   ]
  },
  {
   "cell_type": "code",
   "execution_count": 35,
   "metadata": {},
   "outputs": [],
   "source": [
    "def calc_hypotenuse(x,y): # calc_hypotenuse()関数を定義\n",
    "    ans = (x**2 + y**2)**(1/2) # 関数が呼び出されると(x^2+y^2)^(1/2)が計算され変数ansに代入される\n",
    "    return ans # ansの値が関数の戻り値となる。"
   ]
  },
  {
   "cell_type": "code",
   "execution_count": 36,
   "metadata": {},
   "outputs": [
    {
     "name": "stdout",
     "output_type": "stream",
     "text": [
      "3.605551275463989\n",
      "6.4031242374328485\n",
      "9.219544457292887\n"
     ]
    }
   ],
   "source": [
    "a = calc_hypotenuse(2,3) # calc_hypotenuse()の引数に2と3が入り、関数が呼び出される。\n",
    "b = calc_hypotenuse(4,5) # calc_hypotenuse()の引数に4と5が入り、関数が呼び出される\n",
    "c = calc_hypotenuse(6,7) # calc_hypotenuse()の引数に6と7が入り、関数が呼び出される\n",
    "print(a)\n",
    "print(b)\n",
    "print(c)"
   ]
  },
  {
   "cell_type": "code",
   "execution_count": 37,
   "metadata": {},
   "outputs": [
    {
     "name": "stdout",
     "output_type": "stream",
     "text": [
      "関数が呼ばれました\n"
     ]
    }
   ],
   "source": [
    "def print_func(): # 関数の定義\n",
    "    print(\"関数が呼ばれました\")\n",
    "print_func() # 関数を呼び出す"
   ]
  },
  {
   "cell_type": "markdown",
   "metadata": {},
   "source": [
    "## 関数 演習"
   ]
  },
  {
   "cell_type": "code",
   "execution_count": 38,
   "metadata": {},
   "outputs": [],
   "source": [
    "# 問題１\n",
    "def BMI_function(height, weight): # BMI_function(height, weight)の定義\n",
    "    ans = weight / (height * height) # BMIの計算\n",
    "    return ans # ansが関数の戻り値"
   ]
  },
  {
   "cell_type": "markdown",
   "metadata": {},
   "source": [
    "## 関数 演習"
   ]
  },
  {
   "cell_type": "code",
   "execution_count": 39,
   "metadata": {},
   "outputs": [],
   "source": [
    "# 問題２\n",
    "def check_obesity(height, weight):\n",
    "    \n",
    "    #ポイント\n",
    "    bmi = BMI_function(height, weight)\n",
    "    \n",
    "    if bmi <18: #BMIの値が18より下であればif文の処理を実行。\n",
    "        return \"痩せ気味\"\n",
    "    elif bmi >= 18 and bmi < 25: #elifでさらに条件式と比較する\n",
    "        return \"普通\"\n",
    "    else: #全て偽であれば以下を実行\n",
    "        return \"太り気味\""
   ]
  },
  {
   "cell_type": "markdown",
   "metadata": {},
   "source": [
    "## 関数 演習"
   ]
  },
  {
   "cell_type": "code",
   "execution_count": 40,
   "metadata": {},
   "outputs": [
    {
     "name": "stdout",
     "output_type": "stream",
     "text": [
      "普通\n",
      "20.0\n"
     ]
    }
   ],
   "source": [
    "# 問題３\n",
    "Tanaka = {\"height\":2, \"weight\":80}\n",
    "degree_obesity = check_obesity(Tanaka[\"height\"], Tanaka[\"weight\"])\n",
    "print(degree_obesity) # 肥満度を出力\n",
    "\n",
    "# 以下は参考：BMIの値を出力する\n",
    "#BMI_function()を呼び出し、関数の戻り値を変数BMIに代入される。\n",
    "BMI = BMI_function(Tanaka[\"height\"], Tanaka[\"weight\"])\n",
    "print(BMI) # BMI値を出力 "
   ]
  },
  {
   "cell_type": "markdown",
   "metadata": {},
   "source": [
    "## range()について"
   ]
  },
  {
   "cell_type": "code",
   "execution_count": 41,
   "metadata": {},
   "outputs": [
    {
     "name": "stdout",
     "output_type": "stream",
     "text": [
      "1\n",
      "2\n",
      "3\n",
      "4\n",
      "5\n",
      "6\n",
      "7\n",
      "8\n",
      "9\n",
      "10\n"
     ]
    }
   ],
   "source": [
    "# リストを使って１〜１０までの整数を標準出力する\n",
    "for i in [1,2,3,4,5,6,7,8,9,10]:\n",
    "    print(i)"
   ]
  },
  {
   "cell_type": "code",
   "execution_count": 42,
   "metadata": {},
   "outputs": [
    {
     "name": "stdout",
     "output_type": "stream",
     "text": [
      "0\n",
      "1\n",
      "2\n",
      "3\n",
      "4\n"
     ]
    }
   ],
   "source": [
    "# rangeを使って数列を作成する\n",
    "for i in range(5):\n",
    "    print(i)"
   ]
  },
  {
   "cell_type": "code",
   "execution_count": 43,
   "metadata": {},
   "outputs": [
    {
     "name": "stdout",
     "output_type": "stream",
     "text": [
      "2\n",
      "3\n",
      "4\n"
     ]
    }
   ],
   "source": [
    "# rangeを使って数列を作成する\n",
    "for i in range(2,5):\n",
    "    print(i)"
   ]
  },
  {
   "cell_type": "code",
   "execution_count": 44,
   "metadata": {},
   "outputs": [
    {
     "name": "stdout",
     "output_type": "stream",
     "text": [
      "2\n",
      "4\n"
     ]
    }
   ],
   "source": [
    "# rangeを使って数列を作成する\n",
    "for i in range(2,5,2):\n",
    "    print(i)"
   ]
  },
  {
   "cell_type": "markdown",
   "metadata": {},
   "source": [
    "## format()について"
   ]
  },
  {
   "cell_type": "code",
   "execution_count": 45,
   "metadata": {},
   "outputs": [
    {
     "name": "stdout",
     "output_type": "stream",
     "text": [
      "13.0\n"
     ]
    }
   ],
   "source": [
    "# 以前実装したcalc_hypotenuseを用いて、底辺が5、高さが12の三角形の斜辺の長さを求める\n",
    "ans = calc_hypotenuse(5,12)\n",
    "print(ans)"
   ]
  },
  {
   "cell_type": "code",
   "execution_count": 46,
   "metadata": {},
   "outputs": [
    {
     "name": "stdout",
     "output_type": "stream",
     "text": [
      "斜辺の長さは13.00\n"
     ]
    }
   ],
   "source": [
    "#  \"斜辺の長さは13.00\" という形で標準出力したい\n",
    "print(\"斜辺の長さは{:.2f}\".format(ans)) # format関数を用いた方法"
   ]
  },
  {
   "cell_type": "code",
   "execution_count": 47,
   "metadata": {},
   "outputs": [
    {
     "name": "stdout",
     "output_type": "stream",
     "text": [
      "斜辺の長さは13.00\n"
     ]
    }
   ],
   "source": [
    "print(f\"斜辺の長さは{ans:.2f}\") # fstringを用いた方法"
   ]
  },
  {
   "cell_type": "code",
   "execution_count": 48,
   "metadata": {},
   "outputs": [
    {
     "name": "stdout",
     "output_type": "stream",
     "text": [
      "私の名前はTaroです。年齢は20歳です。\n",
      "私の名前はTaroです。年齢は20歳です。\n"
     ]
    }
   ],
   "source": [
    "name = \"Taro\"\n",
    "age = 20\n",
    "# 複数の値を文字列に埋め込むことも可能\n",
    "print(\"私の名前は{}です。年齢は{:d}歳です。\".format(name, age)) # format()\n",
    "print(f\"私の名前は{name}です。年齢は{age:d}歳です。\") # fstring"
   ]
  },
  {
   "cell_type": "markdown",
   "metadata": {},
   "source": [
    "## 関数演習　問題４"
   ]
  },
  {
   "cell_type": "code",
   "execution_count": 49,
   "metadata": {},
   "outputs": [
    {
     "name": "stdout",
     "output_type": "stream",
     "text": [
      "2 × 1 = 2\n",
      "2 × 2 = 4\n",
      "2 × 3 = 6\n",
      "2 × 4 = 8\n",
      "2 × 5 = 10\n",
      "2 × 6 = 12\n",
      "2 × 7 = 14\n",
      "2 × 8 = 16\n",
      "2 × 9 = 18\n"
     ]
    }
   ],
   "source": [
    "# format()を用いた場合\n",
    "base = 2\n",
    "for i in range(1,10):\n",
    "    print(\"{:d} × {:d} = {:d}\".format(base, i, base*i))"
   ]
  },
  {
   "cell_type": "code",
   "execution_count": 50,
   "metadata": {},
   "outputs": [
    {
     "name": "stdout",
     "output_type": "stream",
     "text": [
      "2 × 1 = 2\n",
      "2 × 2 = 4\n",
      "2 × 3 = 6\n",
      "2 × 4 = 8\n",
      "2 × 5 = 10\n",
      "2 × 6 = 12\n",
      "2 × 7 = 14\n",
      "2 × 8 = 16\n",
      "2 × 9 = 18\n"
     ]
    }
   ],
   "source": [
    "# fstringを用いた場合\n",
    "base = 2\n",
    "for i in range(1,10):\n",
    "    print(f\"{base} × {i} = {base*i}\")"
   ]
  },
  {
   "cell_type": "markdown",
   "metadata": {},
   "source": [
    "# クラス"
   ]
  },
  {
   "cell_type": "code",
   "execution_count": 51,
   "metadata": {},
   "outputs": [],
   "source": [
    "class ModelA:                                # ModelA クラスの宣言\n",
    "    \n",
    "    def __init__(self):                      # 呼び出す際に呼ばれる関数\n",
    "        self.gas = 100                       # 車の持つ要素を定義\n",
    "    \n",
    "    def run(self):                           # 車が走る際の処理を関数で表現\n",
    "        self.gas = self.gas - 5              # gasは減る\n",
    "        print(\"10km走りました\")\n",
    "    \n",
    "    def charge(self, supply_amount): \n",
    "        self.gas = self.gas + supply_amount #ガソリンの補給\n",
    "        print(\"現在のガソリンは{}リットルです\".format(self.gas)) #現在のガソリン量を表示"
   ]
  },
  {
   "cell_type": "code",
   "execution_count": 52,
   "metadata": {},
   "outputs": [],
   "source": [
    "model_A = ModelA() # model_A という名前のインスタンス作成"
   ]
  },
  {
   "cell_type": "code",
   "execution_count": 53,
   "metadata": {},
   "outputs": [
    {
     "name": "stdout",
     "output_type": "stream",
     "text": [
      "10km走りました\n"
     ]
    }
   ],
   "source": [
    "model_A.run() # model_Aのrun関数を実行"
   ]
  },
  {
   "cell_type": "code",
   "execution_count": 54,
   "metadata": {},
   "outputs": [
    {
     "name": "stdout",
     "output_type": "stream",
     "text": [
      "95\n"
     ]
    }
   ],
   "source": [
    "print(model_A.gas)      # model_Aのgas残量を確認"
   ]
  },
  {
   "cell_type": "code",
   "execution_count": 55,
   "metadata": {},
   "outputs": [],
   "source": [
    "# 複数の実体を作っても問題ない\n",
    "model_A_2 = ModelA()\n",
    "model_A_3 = ModelA()"
   ]
  },
  {
   "cell_type": "code",
   "execution_count": 66,
   "metadata": {},
   "outputs": [],
   "source": [
    "class ModelA_2: \n",
    "    \n",
    "    def __init__(self, gas):  # __init__の引数にgasを追加\n",
    "        self.gas = gas # gasの値が self.gasの初期値になる\n",
    "            \n",
    "    def run(self): \n",
    "        self.gas = self.gas - 5 \n",
    "        print(\"10km走りました\")\n",
    "    \n",
    "    def charge(self, supply_amount): \n",
    "        self.gas = self.gas + supply_amount \n",
    "        print(\"現在のガソリンは{}リットルです\".format(self.gas)) "
   ]
  },
  {
   "cell_type": "code",
   "execution_count": 69,
   "metadata": {},
   "outputs": [
    {
     "data": {
      "text/plain": [
       "200"
      ]
     },
     "execution_count": 69,
     "metadata": {},
     "output_type": "execute_result"
    }
   ],
   "source": [
    "model_A_2 = ModelA_2(200)\n",
    "model_A_2.gas"
   ]
  },
  {
   "cell_type": "markdown",
   "metadata": {},
   "source": [
    "### クラス演習　問題１"
   ]
  },
  {
   "cell_type": "code",
   "execution_count": null,
   "metadata": {},
   "outputs": [],
   "source": []
  },
  {
   "cell_type": "code",
   "execution_count": 1,
   "metadata": {},
   "outputs": [],
   "source": [
    "class Human: # Humanクラスを宣言\n",
    "    def __init__(self): # Humanクラスが呼び出されるときに実行される\n",
    "        print(\"initialized\")\n",
    "        self.health = 100 # インスタンスがもつhealthを100に初期化\n",
    "        self.time = 10 # インスタンスがもつtimeを10に初期化\n",
    "        self.achieve = 0 # インスタンスがもつメソッドを0に初期化\n",
    "    \n",
    "    def work(self):\n",
    "        print(\"work\")\n",
    "        self.achieve += 1\n",
    "        self.time -= 1\n",
    "        self.health -= 50\n",
    "        \n",
    "    def rest(self):\n",
    "        print(\"rest\") \n",
    "        self.time -= 3\n",
    "        self.health += 50"
   ]
  },
  {
   "cell_type": "code",
   "execution_count": 2,
   "metadata": {},
   "outputs": [
    {
     "name": "stdout",
     "output_type": "stream",
     "text": [
      "initialized\n",
      "health: 100\n",
      "time: 10\n",
      "achieve: 0\n"
     ]
    }
   ],
   "source": [
    "human1 = Human() # human1という名前のインスタンスを生成\n",
    "print(\"health: {}\".format(human1.health))\n",
    "print(\"time: {}\".format(human1.time))\n",
    "print(\"achieve: {}\".format(human1.achieve))"
   ]
  },
  {
   "cell_type": "code",
   "execution_count": 3,
   "metadata": {},
   "outputs": [
    {
     "name": "stdout",
     "output_type": "stream",
     "text": [
      "work\n",
      "health: 50\n",
      "time: 9\n",
      "achieve: 1\n"
     ]
    }
   ],
   "source": [
    "human1.work()\n",
    "print(\"health: {}\".format(human1.health))\n",
    "print(\"time: {}\".format(human1.time))\n",
    "print(\"achieve: {}\".format(human1.achieve))"
   ]
  },
  {
   "cell_type": "code",
   "execution_count": null,
   "metadata": {},
   "outputs": [],
   "source": [
    "human1.rest()\n",
    "print(\"health: {}\".format(human1.health))\n",
    "print(\"time: {}\".format(human1.time))\n",
    "print(\"achieve: {}\".format(human1.achieve))"
   ]
  },
  {
   "cell_type": "markdown",
   "metadata": {},
   "source": [
    "## クラスの継承"
   ]
  },
  {
   "cell_type": "code",
   "execution_count": null,
   "metadata": {},
   "outputs": [],
   "source": [
    "class ModelB(ModelA): # ModelAクラスを継承\n",
    "    def turbo(self): #ターボを再現する関数\n",
    "        self.gas = self.gas-10 #ガソリンを10減らす代わりにターボを発動\n",
    "        print(\"ターボ機能を発動します！\")"
   ]
  },
  {
   "cell_type": "code",
   "execution_count": null,
   "metadata": {
    "scrolled": true
   },
   "outputs": [],
   "source": [
    "model_B = ModelB() #model_Bという名前のインスタンスを生成\n",
    "model_B.run() # ModelAのrun()を受け継いでいる\n",
    "model_B.turbo()\n",
    "print(model_B.gas)"
   ]
  },
  {
   "cell_type": "markdown",
   "metadata": {},
   "source": [
    "### クラス演習　問題２"
   ]
  },
  {
   "cell_type": "code",
   "execution_count": null,
   "metadata": {},
   "outputs": [],
   "source": [
    "class Engineer(Human): # Humanクラスを継承して新しくEngineerクラスを宣言\n",
    "    def work_hard(self):\n",
    "        print(\"work hard\")\n",
    "        self.achieve += 5\n",
    "        self.health -= 150\n",
    "        self.time -= 3"
   ]
  },
  {
   "cell_type": "code",
   "execution_count": null,
   "metadata": {},
   "outputs": [],
   "source": [
    "engineer = Engineer() \n",
    "engineer.rest()\n",
    "engineer.rest()\n",
    "engineer.work_hard() \n",
    "print(\"health: {}\".format(engineer.health))\n",
    "print(\"time: {}\".format(engineer.time))\n",
    "print(\"achieve: {}\".format(engineer.achieve))"
   ]
  }
 ],
 "metadata": {
  "kernelspec": {
   "display_name": "Python 3",
   "language": "python",
   "name": "python3"
  },
  "language_info": {
   "codemirror_mode": {
    "name": "ipython",
    "version": 3
   },
   "file_extension": ".py",
   "mimetype": "text/x-python",
   "name": "python",
   "nbconvert_exporter": "python",
   "pygments_lexer": "ipython3",
   "version": "3.7.3"
  }
 },
 "nbformat": 4,
 "nbformat_minor": 2
}
