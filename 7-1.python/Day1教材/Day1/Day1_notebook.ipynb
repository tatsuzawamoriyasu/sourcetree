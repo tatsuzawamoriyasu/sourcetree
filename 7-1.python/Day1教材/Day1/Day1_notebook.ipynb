{
 "cells": [
  {
   "cell_type": "markdown",
   "metadata": {},
   "source": [
    "# Day1 Python基礎文法①"
   ]
  },
  {
   "cell_type": "markdown",
   "metadata": {},
   "source": [
    "# 変数"
   ]
  },
  {
   "cell_type": "code",
   "execution_count": 1,
   "metadata": {},
   "outputs": [],
   "source": [
    "x = 10 #xに10を代入"
   ]
  },
  {
   "cell_type": "code",
   "execution_count": 2,
   "metadata": {},
   "outputs": [
    {
     "name": "stdout",
     "output_type": "stream",
     "text": [
      "10\n"
     ]
    }
   ],
   "source": [
    "print(x) #xを出力"
   ]
  },
  {
   "cell_type": "code",
   "execution_count": 3,
   "metadata": {},
   "outputs": [
    {
     "data": {
      "text/plain": [
       "15"
      ]
     },
     "execution_count": 3,
     "metadata": {},
     "output_type": "execute_result"
    }
   ],
   "source": [
    "x + 5 #x=10に5を加算"
   ]
  },
  {
   "cell_type": "code",
   "execution_count": 4,
   "metadata": {},
   "outputs": [
    {
     "name": "stdout",
     "output_type": "stream",
     "text": [
      "20\n"
     ]
    }
   ],
   "source": [
    "y = x + 10 #yにx+5を代入\n",
    "print(y)"
   ]
  },
  {
   "cell_type": "code",
   "execution_count": 5,
   "metadata": {},
   "outputs": [
    {
     "name": "stdout",
     "output_type": "stream",
     "text": [
      "2\n",
      "8\n"
     ]
    }
   ],
   "source": [
    "print(12 % 10) #12÷10の剰余\n",
    "print(2 ** 3) #2の3乗"
   ]
  },
  {
   "cell_type": "code",
   "execution_count": 6,
   "metadata": {},
   "outputs": [
    {
     "name": "stdout",
     "output_type": "stream",
     "text": [
      "108\n"
     ]
    }
   ],
   "source": [
    "x = 2 * ((3 + 4) ** 2 + 5) #x=2×{(1+1)^2}の計算 \n",
    "print(x)"
   ]
  },
  {
   "cell_type": "markdown",
   "metadata": {},
   "source": [
    "## 変数 演習"
   ]
  },
  {
   "cell_type": "code",
   "execution_count": 7,
   "metadata": {},
   "outputs": [
    {
     "name": "stdout",
     "output_type": "stream",
     "text": [
      "20.0\n"
     ]
    }
   ],
   "source": [
    "# 問題１\n",
    "value1 = 1.5 # value１に1.5を代入\n",
    "value2 = 45 # value2に45を代入\n",
    "answer_value = value2 / (value1 * value1) # value2 ÷  (value1 × value1)を計算し、その計算結果をanswer_valueに代入している。\n",
    "print(answer_value) # answer_valueの中の値を出力"
   ]
  },
  {
   "cell_type": "markdown",
   "metadata": {},
   "source": [
    "# データの型"
   ]
  },
  {
   "cell_type": "code",
   "execution_count": 8,
   "metadata": {},
   "outputs": [],
   "source": [
    "# 1.0 ＋ \"12.2\"\n",
    "#float型　と　String型 はデータ型が違うのでこの計算を実行するとエラーが出てしまう。"
   ]
  },
  {
   "cell_type": "code",
   "execution_count": 7,
   "metadata": {},
   "outputs": [
    {
     "data": {
      "text/plain": [
       "'1.012.2'"
      ]
     },
     "execution_count": 7,
     "metadata": {},
     "output_type": "execute_result"
    }
   ],
   "source": [
    "# 1.0を文字列の型に変換\n",
    "str(1.0) + \"12.2\""
   ]
  },
  {
   "cell_type": "code",
   "execution_count": 8,
   "metadata": {},
   "outputs": [
    {
     "data": {
      "text/plain": [
       "13.2"
      ]
     },
     "execution_count": 8,
     "metadata": {},
     "output_type": "execute_result"
    }
   ],
   "source": [
    "# 12.2を小数の型に変換\n",
    "1.0 + float(\"12.2\")"
   ]
  },
  {
   "cell_type": "code",
   "execution_count": 9,
   "metadata": {},
   "outputs": [
    {
     "name": "stdout",
     "output_type": "stream",
     "text": [
      "10\n",
      "5.0\n"
     ]
    }
   ],
   "source": [
    "x = 10 #xに10を代入\n",
    "y = x/2 #xを整数型である2で割ったあと計算結果をyに代入\n",
    "print(x) #xの値を出力　→　10が表示される\n",
    "print(y) #yの値を出力　→　5.0が出力される、float型であることに注意"
   ]
  },
  {
   "cell_type": "code",
   "execution_count": 10,
   "metadata": {},
   "outputs": [
    {
     "name": "stdout",
     "output_type": "stream",
     "text": [
      "<class 'float'>\n"
     ]
    }
   ],
   "source": [
    "print(type(y)) #type(x)で変数xのデータ型を調べることができる。"
   ]
  },
  {
   "cell_type": "code",
   "execution_count": 11,
   "metadata": {},
   "outputs": [],
   "source": [
    "# '10' + 5\n",
    "#char型の\"10\"と整数型の５は演算不可。シングルクオーテーションでかっこった数値はchar型とみなされる。"
   ]
  },
  {
   "cell_type": "markdown",
   "metadata": {},
   "source": [
    "## リスト"
   ]
  },
  {
   "cell_type": "code",
   "execution_count": 12,
   "metadata": {},
   "outputs": [
    {
     "name": "stdout",
     "output_type": "stream",
     "text": [
      "['国語', '算数', '理科', '社会']\n",
      "<class 'list'>\n"
     ]
    }
   ],
   "source": [
    "#1 作成\n",
    "subject_name = [\"国語\",\"算数\",\"理科\",\"社会\"] #リスト型変数の宣言\n",
    "print(subject_name) #リスト変数を引数にして各要素全てを出力\n",
    "print(type(subject_name)) #type()でsubject_nameの型を調べる。リスト型であるとわかる。"
   ]
  },
  {
   "cell_type": "code",
   "execution_count": 13,
   "metadata": {},
   "outputs": [
    {
     "name": "stdout",
     "output_type": "stream",
     "text": [
      "算数\n",
      "['国語', '算数']\n"
     ]
    }
   ],
   "source": [
    "#2 参照\n",
    "print(subject_name[1]) #算数を表示\n",
    "print(subject_name[0:2]) #国語，算数を表示"
   ]
  },
  {
   "cell_type": "code",
   "execution_count": 14,
   "metadata": {},
   "outputs": [
    {
     "name": "stdout",
     "output_type": "stream",
     "text": [
      "['国語', '算数', '理科', '社会', '追加']\n"
     ]
    }
   ],
   "source": [
    "#3 末尾に追加\n",
    "subject_name.append(\"追加\") # subject_nameに\"追加\"を追加\n",
    "print(subject_name) # subject_nameの要素を表示"
   ]
  },
  {
   "cell_type": "code",
   "execution_count": 15,
   "metadata": {},
   "outputs": [
    {
     "name": "stdout",
     "output_type": "stream",
     "text": [
      "['国語', '算数', '理科', '社会', '追加', '追加A', '追加B']\n"
     ]
    }
   ],
   "source": [
    "subject_name.extend([\"追加A\", \"追加B\"]) #subject_nameに2つの要素を追加\n",
    "print(subject_name) # subject_nameの要素を表示"
   ]
  },
  {
   "cell_type": "code",
   "execution_count": 16,
   "metadata": {},
   "outputs": [
    {
     "name": "stdout",
     "output_type": "stream",
     "text": [
      "['国語', '算数', '割り込み', '理科', '社会', '追加', '追加A', '追加B']\n"
     ]
    }
   ],
   "source": [
    "#3 途中に追加\n",
    "subject_name.insert(2, \"割り込み\") #subject_nameの2番目に\"割り込み\"を追加\n",
    "print(subject_name) #subject_nameの要素を表示"
   ]
  },
  {
   "cell_type": "code",
   "execution_count": 17,
   "metadata": {},
   "outputs": [
    {
     "name": "stdout",
     "output_type": "stream",
     "text": [
      "['国語', '算数', '理科', '社会', '追加', '追加A', '追加B']\n"
     ]
    }
   ],
   "source": [
    "#4 削除\n",
    "subject_name.remove(\"割り込み\") #subject_nameの要素から\"割り込み\"という要素を削除\n",
    "print(subject_name) #subject_nameの要素を表示"
   ]
  },
  {
   "cell_type": "code",
   "execution_count": 18,
   "metadata": {},
   "outputs": [
    {
     "name": "stdout",
     "output_type": "stream",
     "text": [
      "['Japanese', '算数', '理科', '社会', '追加', '追加A', '追加B']\n"
     ]
    }
   ],
   "source": [
    "subject_name[0] = \"Japanese\"\n",
    "print(subject_name)"
   ]
  },
  {
   "cell_type": "markdown",
   "metadata": {},
   "source": [
    "## 辞書"
   ]
  },
  {
   "cell_type": "code",
   "execution_count": 19,
   "metadata": {},
   "outputs": [
    {
     "name": "stdout",
     "output_type": "stream",
     "text": [
      "{'国語': 70, '数学': 80, '理科': 100}\n"
     ]
    }
   ],
   "source": [
    "#1 作成\n",
    "subject_dict = {\"国語\":70, \"数学\":80, \"理科\":100} #辞書は{}で囲む。その中身は{キー:値, キー:値, ...}とする。\n",
    "print(subject_dict) #subject_dictのキーとその値を出力"
   ]
  },
  {
   "cell_type": "code",
   "execution_count": 20,
   "metadata": {},
   "outputs": [
    {
     "name": "stdout",
     "output_type": "stream",
     "text": [
      "80\n"
     ]
    }
   ],
   "source": [
    "#2 参照\n",
    "print(subject_dict[\"数学\"]) #キーに\"数学\"を選んで、そのキーの値である80を出力する"
   ]
  },
  {
   "cell_type": "code",
   "execution_count": 21,
   "metadata": {},
   "outputs": [
    {
     "name": "stdout",
     "output_type": "stream",
     "text": [
      "{'国語': 70, '数学': 80, '理科': 100, '英語': 90}\n"
     ]
    }
   ],
   "source": [
    "#3 追加\n",
    "subject_dict[\"英語\"] = 90 #辞書型変数subject_dictにキーが\"英語\"でその値である90を追加する。\n",
    "print(subject_dict) #subject_dictのキーとその値を出力"
   ]
  },
  {
   "cell_type": "code",
   "execution_count": 22,
   "metadata": {},
   "outputs": [
    {
     "name": "stdout",
     "output_type": "stream",
     "text": [
      "{'国語': 70, '理科': 100, '英語': 90}\n"
     ]
    }
   ],
   "source": [
    "#4 削除\n",
    "subject_dict.pop(\"数学\") #キーが数学でその値である80をセットで削除する \n",
    "print(subject_dict) #subject_dictのキーとその値を出力"
   ]
  },
  {
   "cell_type": "code",
   "execution_count": 23,
   "metadata": {
    "scrolled": true
   },
   "outputs": [
    {
     "name": "stdout",
     "output_type": "stream",
     "text": [
      "{'国語': 70, '理科': 0, '英語': 90}\n"
     ]
    }
   ],
   "source": [
    "#5 変更\n",
    "subject_dict[\"理科\"] =  0 # 理科というキーに対応するバリューを０に変更する\n",
    "print(subject_dict) #subject_dictのキーとその値を出力"
   ]
  },
  {
   "cell_type": "markdown",
   "metadata": {},
   "source": [
    "## タプル"
   ]
  },
  {
   "cell_type": "code",
   "execution_count": 24,
   "metadata": {},
   "outputs": [
    {
     "name": "stdout",
     "output_type": "stream",
     "text": [
      "(10, 20, 'Hello')\n",
      "20\n"
     ]
    }
   ],
   "source": [
    "#1 作成と参照\n",
    "sample_tuple = (10,20,\"Hello\") #タプルは()で要素を囲む.　タプルの要素には順番にはインデックスが割り振られている。要素のデータ型は混合で良い.\n",
    "print(sample_tuple) #sample_tupleの要素を出力\n",
    "print(sample_tuple[1]) #sample_tupleの2番目の要素を出力 → 20"
   ]
  },
  {
   "cell_type": "markdown",
   "metadata": {},
   "source": [
    "## セット"
   ]
  },
  {
   "cell_type": "code",
   "execution_count": 25,
   "metadata": {},
   "outputs": [
    {
     "name": "stdout",
     "output_type": "stream",
     "text": [
      "{10, 'hello', 100}\n"
     ]
    }
   ],
   "source": [
    "sample_set = {10,100,\"hello\"} #集合型. {}で囲む. 重リストと違って複の要素がないことと、順番がないことに注意\n",
    "print(sample_set) #集合型変数sample_setの要素を出力"
   ]
  },
  {
   "cell_type": "markdown",
   "metadata": {},
   "source": [
    "## データの型 演習"
   ]
  },
  {
   "cell_type": "code",
   "execution_count": 9,
   "metadata": {},
   "outputs": [
    {
     "name": "stdout",
     "output_type": "stream",
     "text": [
      "satoさんのBMIは20.0です。\n"
     ]
    }
   ],
   "source": [
    "# 問題１\n",
    "sato_dict = {\"height\":1.5, \"weight\":45}\n",
    "BMI_value = sato_dict[\"weight\"] / (sato_dict[\"height\"] * sato_dict[\"height\"]) # 辞書型の値の参照は  辞書型変数名[呼び出す値のキー] \n",
    "print(\"satoさんのBMIは\" + str(BMI_value) + \"です。\") "
   ]
  },
  {
   "cell_type": "code",
   "execution_count": 11,
   "metadata": {},
   "outputs": [
    {
     "name": "stdout",
     "output_type": "stream",
     "text": [
      "<class 'float'>\n",
      "<class 'str'>\n",
      "<class 'list'>\n",
      "<class 'dict'>\n"
     ]
    }
   ],
   "source": [
    "# 問題２\n",
    "x1 =  3.14 \n",
    "x2 = \"3.14\" \n",
    "x3 = [3.14] \n",
    "x4 = {\"pi\":3.14} \n",
    "print(type(x1)) \n",
    "print(type(x2)) \n",
    "print(type(x3)) \n",
    "print(type(x4))"
   ]
  },
  {
   "cell_type": "markdown",
   "metadata": {},
   "source": [
    "# 制御文"
   ]
  },
  {
   "cell_type": "markdown",
   "metadata": {},
   "source": [
    "## 繰り返し処理 for文"
   ]
  },
  {
   "cell_type": "code",
   "execution_count": 28,
   "metadata": {},
   "outputs": [
    {
     "name": "stdout",
     "output_type": "stream",
     "text": [
      "1\n",
      "2\n",
      "3\n"
     ]
    }
   ],
   "source": [
    "for i in [1, 2, 3]: #リストの中身を順番に変数iに代入していきその値を表示する。リストの要素の数だけ繰り返している。\n",
    "    print(i)"
   ]
  },
  {
   "cell_type": "markdown",
   "metadata": {},
   "source": [
    "## 繰り返し処理 while文"
   ]
  },
  {
   "cell_type": "code",
   "execution_count": 29,
   "metadata": {},
   "outputs": [
    {
     "name": "stdout",
     "output_type": "stream",
     "text": [
      "1\n",
      "2\n",
      "3\n"
     ]
    }
   ],
   "source": [
    "count = 1 #変数countの初期値は1\n",
    "while count <= 3:     #countが3以下の時，繰り返し処理を行う\n",
    "    print(count) #countの値を出力\n",
    "    count = count + 1 #countにそれ自身の値に1を足した値を代入"
   ]
  },
  {
   "cell_type": "markdown",
   "metadata": {},
   "source": [
    "## 条件分岐 if文"
   ]
  },
  {
   "cell_type": "markdown",
   "metadata": {},
   "source": [
    "点数の条件: 成績  \n",
    "90点以上: 優  \n",
    "90点未満70点以上: 良  \n",
    "70点未満60点以上: 可  \n",
    "それ以外: 不可  "
   ]
  },
  {
   "cell_type": "code",
   "execution_count": 30,
   "metadata": {},
   "outputs": [
    {
     "name": "stdout",
     "output_type": "stream",
     "text": [
      "可\n"
     ]
    }
   ],
   "source": [
    "score = 65\n",
    "if score >= 90:\n",
    "    print(\"優\")\n",
    "elif 90 > score and score >= 70:\n",
    "    print(\"良\")\n",
    "elif 70 > score and score >= 60:\n",
    "    print(\"可\")\n",
    "else:\n",
    "    print(\"不可\")"
   ]
  },
  {
   "cell_type": "markdown",
   "metadata": {},
   "source": [
    "## Whileの注意点"
   ]
  },
  {
   "cell_type": "code",
   "execution_count": 31,
   "metadata": {},
   "outputs": [
    {
     "name": "stdout",
     "output_type": "stream",
     "text": [
      "1\n",
      "2\n",
      "3\n",
      "4\n"
     ]
    }
   ],
   "source": [
    "count = 0 # countの初期値に0を代入\n",
    "while True: # 「while 条件式」の条件式が真の時ループされるので、無限ループを発生していることに注意\n",
    "    count = count + 1  # countにそれ自身の値に1を足した値を代入\n",
    "    if count == 5: # countに5が代入されている時、if文の処理が実行される\n",
    "        break # breakはwhileに対してなので、無限ループを発生しているwhileを抜け出す。\n",
    "    print(count) # if文の条件が偽の時、if文の処理が無視されるのでこちらを実行"
   ]
  },
  {
   "cell_type": "markdown",
   "metadata": {},
   "source": [
    "## 制御文 演習"
   ]
  },
  {
   "cell_type": "code",
   "execution_count": 32,
   "metadata": {},
   "outputs": [
    {
     "data": {
      "text/plain": [
       "1024"
      ]
     },
     "execution_count": 32,
     "metadata": {},
     "output_type": "execute_result"
    }
   ],
   "source": [
    "# 問題１\n",
    "2 ** 10"
   ]
  },
  {
   "cell_type": "code",
   "execution_count": 33,
   "metadata": {},
   "outputs": [
    {
     "name": "stdout",
     "output_type": "stream",
     "text": [
      "1024\n"
     ]
    }
   ],
   "source": [
    "# 問題２\n",
    "# for文による演算\n",
    "ans = 1\n",
    "for x in [1,2,3,4,5,6,7,8,9,10]:\n",
    "    ans = ans * 2 \n",
    "print(ans)"
   ]
  },
  {
   "cell_type": "code",
   "execution_count": 34,
   "metadata": {},
   "outputs": [
    {
     "name": "stdout",
     "output_type": "stream",
     "text": [
      "1024\n"
     ]
    }
   ],
   "source": [
    "# 問題３\n",
    "# while文による演算\n",
    "ans = 1\n",
    "count = 1\n",
    "while count < 11:\n",
    "    ans = ans * 2\n",
    "    count = count + 1\n",
    "print(ans)"
   ]
  }
 ],
 "metadata": {
  "kernelspec": {
   "display_name": "Python 3",
   "language": "python",
   "name": "python3"
  },
  "language_info": {
   "codemirror_mode": {
    "name": "ipython",
    "version": 3
   },
   "file_extension": ".py",
   "mimetype": "text/x-python",
   "name": "python",
   "nbconvert_exporter": "python",
   "pygments_lexer": "ipython3",
   "version": "3.7.3"
  }
 },
 "nbformat": 4,
 "nbformat_minor": 2
}
