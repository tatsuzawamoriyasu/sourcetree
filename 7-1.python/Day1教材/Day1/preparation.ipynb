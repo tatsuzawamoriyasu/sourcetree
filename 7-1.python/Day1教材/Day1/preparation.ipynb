{
 "cells": [
  {
   "cell_type": "markdown",
   "metadata": {},
   "source": [
    "## ライブラリ事前準備のお願い\n",
    "- 以下に記載のコードがすべてエラーなく実行できれば事前準備はOKです\n",
    "- 実行方法は上部「Cell」の「Run All」を押して下さい\n",
    "- Anacondaを導入した場合には、基本的に問題なく実行できると思います\n",
    "- もしエラーが発生した場合、\n",
    "    - Mac: terminal で pip install ライブラリ名\n",
    "    - Windows: コマンドプロンプト or Anaconda プロンプトで pip install ライブラリ名"
   ]
  },
  {
   "cell_type": "code",
   "execution_count": 28,
   "metadata": {},
   "outputs": [],
   "source": [
    "# NumPy\n",
    "import numpy\n",
    "\n",
    "# もしエラーが発生した場合、pip install numpy"
   ]
  },
  {
   "cell_type": "code",
   "execution_count": 29,
   "metadata": {},
   "outputs": [],
   "source": [
    "# Pandas\n",
    "import pandas\n",
    "\n",
    "# もしエラーが発生した場合、pip install pandas"
   ]
  },
  {
   "cell_type": "code",
   "execution_count": 30,
   "metadata": {},
   "outputs": [],
   "source": [
    "# sci-kit learn\n",
    "import sklearn\n",
    "\n",
    "#もしエラーが発生した場合、pip install scikit-learn"
   ]
  },
  {
   "cell_type": "code",
   "execution_count": 31,
   "metadata": {},
   "outputs": [],
   "source": [
    "import matplotlib.pyplot\n",
    "\n",
    "#もしエラーが発生した場合、pip install matplotlib"
   ]
  },
  {
   "cell_type": "code",
   "execution_count": 32,
   "metadata": {},
   "outputs": [],
   "source": [
    "import seaborn as sns\n",
    "\n",
    "#もしエラーが発生した場合、pip install seaborn"
   ]
  }
 ],
 "metadata": {
  "kernelspec": {
   "display_name": "Python 3",
   "language": "python",
   "name": "python3"
  },
  "language_info": {
   "codemirror_mode": {
    "name": "ipython",
    "version": 3
   },
   "file_extension": ".py",
   "mimetype": "text/x-python",
   "name": "python",
   "nbconvert_exporter": "python",
   "pygments_lexer": "ipython3",
   "version": "3.7.3"
  }
 },
 "nbformat": 4,
 "nbformat_minor": 2
}
