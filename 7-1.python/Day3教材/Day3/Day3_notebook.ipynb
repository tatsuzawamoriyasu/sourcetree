{
 "cells": [
  {
   "cell_type": "markdown",
   "metadata": {},
   "source": [
    "# Day3 データの整理 - NumPy"
   ]
  },
  {
   "cell_type": "markdown",
   "metadata": {},
   "source": [
    "# 外部ライブラリの使い方"
   ]
  },
  {
   "cell_type": "code",
   "execution_count": 1,
   "metadata": {},
   "outputs": [
    {
     "name": "stdout",
     "output_type": "stream",
     "text": [
      "1秒経過\n",
      "2秒経過\n",
      "3秒経過\n"
     ]
    }
   ],
   "source": [
    "#timeモジュールをインポート\n",
    "import time\n",
    "#1〜3まで繰り返す。\n",
    "for count in range(1,4): \n",
    "    #1秒止まる\n",
    "    time.sleep(1) \n",
    "     #経過秒数を出力\n",
    "    print(\"{}秒経過\".format(count))"
   ]
  },
  {
   "cell_type": "markdown",
   "metadata": {},
   "source": [
    "## 外部ライブラリ 演習"
   ]
  },
  {
   "cell_type": "code",
   "execution_count": 2,
   "metadata": {},
   "outputs": [],
   "source": [
    "# 問題１"
   ]
  },
  {
   "cell_type": "code",
   "execution_count": null,
   "metadata": {},
   "outputs": [
    {
     "name": "stdout",
     "output_type": "stream",
     "text": [
      "1秒経過\n",
      "2秒経過\n",
      "python最高!\n",
      "4秒経過\n",
      "5秒経過\n",
      "python最高!\n",
      "7秒経過\n",
      "8秒経過\n",
      "python最高!\n",
      "10秒経過\n",
      "11秒経過\n",
      "python最高!\n",
      "13秒経過\n",
      "14秒経過\n",
      "python最高!\n",
      "16秒経過\n",
      "17秒経過\n",
      "python最高!\n",
      "19秒経過\n",
      "20秒経過\n",
      "python最高!\n",
      "22秒経過\n",
      "23秒経過\n",
      "python最高!\n"
     ]
    }
   ],
   "source": [
    "import time \n",
    "#1〜30まで繰り返す\n",
    "for count in range(1,31): \n",
    "    #カウントが３の倍数かどうかを判定する\n",
    "    if count%3==0: \n",
    "        print(\"python最高!\")\n",
    "    else :\n",
    "        print(\"{}秒経過\".format(count)) \n",
    "    time.sleep(1)"
   ]
  },
  {
   "cell_type": "markdown",
   "metadata": {},
   "source": [
    "# Numpyで配列を高速に処理しよう"
   ]
  },
  {
   "cell_type": "markdown",
   "metadata": {},
   "source": [
    "## NumPy配列の作り方"
   ]
  },
  {
   "cell_type": "code",
   "execution_count": 2,
   "metadata": {},
   "outputs": [],
   "source": [
    "#Numpyのインポート\n",
    "import numpy as np "
   ]
  },
  {
   "cell_type": "code",
   "execution_count": null,
   "metadata": {},
   "outputs": [],
   "source": [
    "#1次元の配列生成\n",
    "\n",
    "#正\n",
    "a = np.array([1, 2, 3]) \n",
    "#誤：エラーを生む\n",
    "#a = np.array(1, 2, 3) "
   ]
  },
  {
   "cell_type": "code",
   "execution_count": null,
   "metadata": {},
   "outputs": [],
   "source": [
    "#２次元の配列生成\n",
    "\n",
    "# 正\n",
    "a = np.array([[1, 2, 3],\n",
    "              [4, 5, 6]]) \n",
    "\n",
    "# 誤：エラーを生む\n",
    "#a = np.array([1, 2, 3],\n",
    " #                 [4, 5, 6]) "
   ]
  },
  {
   "cell_type": "code",
   "execution_count": null,
   "metadata": {},
   "outputs": [],
   "source": [
    "# ゼロ行列\n",
    "zeros2x3 = np.zeros((2, 3))\n",
    "zeros2x3"
   ]
  },
  {
   "cell_type": "code",
   "execution_count": null,
   "metadata": {},
   "outputs": [],
   "source": [
    "# イチ行列\n",
    "ones2x3 = np.ones((2,3))\n",
    "ones2x3"
   ]
  },
  {
   "cell_type": "code",
   "execution_count": null,
   "metadata": {},
   "outputs": [],
   "source": [
    "# 0から始まる連続する10の整数の配列\n",
    "print(np.arange(10))\n",
    "\n",
    "#np.arange(始, 終, 間隔)\n",
    "print(np.arange(10, 30, 5))\n",
    "print(np.arange(0, 2, 0.3))\n",
    "\n",
    "#等間隔な数列を生成(始, 終, 個数)\n",
    "print(np.linspace(0, np.pi, 10))"
   ]
  },
  {
   "cell_type": "code",
   "execution_count": null,
   "metadata": {},
   "outputs": [],
   "source": [
    "#6要素の配列を生成\n",
    "array = np.array([1, 2, 3, 4, 5, 6])\n",
    "\n",
    "#arrayを2x3行列に整形\n",
    "arr2x3 = array.reshape(2, 3)\n",
    "\n",
    "#! 割り切れない数字ではreshape不可\n",
    "#arr4x2 = array.reshape(2, 4)"
   ]
  },
  {
   "cell_type": "code",
   "execution_count": null,
   "metadata": {},
   "outputs": [],
   "source": [
    "#行列を1次元に\"ほどく \"\n",
    "a = arr2x3.ravel() "
   ]
  },
  {
   "cell_type": "code",
   "execution_count": null,
   "metadata": {},
   "outputs": [],
   "source": [
    "#転置行列\n",
    "a2x3_T = arr2x3.T\n",
    "#transpose関数でも同様\n",
    "arr2x3_transpose=arr2x3.transpose()"
   ]
  },
  {
   "cell_type": "code",
   "execution_count": null,
   "metadata": {},
   "outputs": [],
   "source": [
    "arr2x3 = array.reshape(2, 3)\n",
    "arr2x3"
   ]
  },
  {
   "cell_type": "code",
   "execution_count": null,
   "metadata": {},
   "outputs": [],
   "source": [
    "arr2x3.reshape(3,2)"
   ]
  },
  {
   "cell_type": "code",
   "execution_count": null,
   "metadata": {},
   "outputs": [],
   "source": [
    "arr2x3.transpose()"
   ]
  },
  {
   "cell_type": "markdown",
   "metadata": {},
   "source": [
    "## NumPy配列の作り方 演習　問題１〜３"
   ]
  },
  {
   "cell_type": "code",
   "execution_count": 3,
   "metadata": {},
   "outputs": [
    {
     "name": "stdout",
     "output_type": "stream",
     "text": [
      "[ 0  1  2  3  4  5  6  7  8  9 10 11 12 13 14]\n",
      "[[ 0  1  2  3  4]\n",
      " [ 5  6  7  8  9]\n",
      " [10 11 12 13 14]]\n",
      "(15,)\n",
      "(3, 5)\n"
     ]
    }
   ],
   "source": [
    "# 0 〜 １4が入った配列を作成\n",
    "a = np.arange(15)\n",
    "print(a)\n",
    "\n",
    "# aを３行５列に整形\n",
    "b = a.reshape(3,5)\n",
    "print(b)\n",
    "\n",
    "print(a.shape)\n",
    "print(b.shape)"
   ]
  },
  {
   "cell_type": "markdown",
   "metadata": {},
   "source": [
    "## NumPy配列に対する数学的な演算"
   ]
  },
  {
   "cell_type": "code",
   "execution_count": null,
   "metadata": {},
   "outputs": [],
   "source": [
    "a = np.array([0, 1, 2, 3, 9])\n",
    "b = np.array([2, 4, 6, 0 , np.inf])\n",
    "#足し算(+, np.add(a, b))\n",
    "a+b\n",
    "a+3\n",
    "#引き算(-, np.subtract(a, b))\n",
    "a-b\n",
    "a-3"
   ]
  },
  {
   "cell_type": "code",
   "execution_count": null,
   "metadata": {},
   "outputs": [],
   "source": [
    "#掛け算(*, np.multiply(a, b) )\n",
    "print(f\"a * b: {a * b}\")\n",
    "#累乗(**, np.power(a, b) )\n",
    "print(f\"a ** b: {a ** b}\")\n",
    "#平方根(np.sqrt(a), np.power(a, 1/2) )\n",
    "print(f\"np.sqrt(a): {np.sqrt(a)}\")"
   ]
  },
  {
   "cell_type": "code",
   "execution_count": null,
   "metadata": {},
   "outputs": [],
   "source": [
    "#割り算(/, np.divide(a, b) )\n",
    "print(f\"a / b: {a / b}\")\n",
    "#商の整数部分(//)\n",
    "print(f\"100 // b: {a // b}\")\n",
    "#剰余(%,np.mod() )\n",
    "print(f\"100%b: {100 % b}\")"
   ]
  },
  {
   "cell_type": "code",
   "execution_count": null,
   "metadata": {},
   "outputs": [],
   "source": [
    "A = np.array([[1, 2], [3, 4]])\n",
    "B = np.array([[5, 6], [7, 8]])\n",
    "\n",
    "#同じ要素番号同士の掛け算\n",
    "print(A * B)\n",
    "#行列の掛け算 (np.dot(A,B)でも可 )\n",
    "print(A.dot(B))"
   ]
  },
  {
   "cell_type": "code",
   "execution_count": null,
   "metadata": {},
   "outputs": [],
   "source": [
    "#統計的な計算をしよう"
   ]
  },
  {
   "cell_type": "code",
   "execution_count": null,
   "metadata": {},
   "outputs": [],
   "source": [
    "a = np.array([1,2,3,4,5])\n",
    "print(a.mean()) # 平均値"
   ]
  },
  {
   "cell_type": "code",
   "execution_count": null,
   "metadata": {},
   "outputs": [],
   "source": [
    "print(f\"a: {a}\")\n",
    "print(f\"sum: {a.sum()}\") # 和\n",
    "print(f\"min: {a.min()}\") #最小値\n",
    "print(f\"max: {a.max()}\") #最大値\n",
    "print(f\"aの平均は{a.mean()},標準偏差は{a.std():.3f}です.\")"
   ]
  },
  {
   "cell_type": "code",
   "execution_count": null,
   "metadata": {},
   "outputs": [],
   "source": [
    "b=np.arange(1,13,2).reshape(2,3)\n",
    "#列ごとの和\n",
    "print(b.sum(axis=0))\n",
    "#行中の最小値\n",
    "print(b.min(axis=1))\n",
    "#各行までの累積和\n",
    "print(b.cumsum(axis=0))"
   ]
  },
  {
   "cell_type": "markdown",
   "metadata": {},
   "source": [
    "## 補足"
   ]
  },
  {
   "cell_type": "code",
   "execution_count": null,
   "metadata": {},
   "outputs": [],
   "source": [
    "#三角関数\n",
    "np.sin(np.pi)\n",
    "np.cos(np.pi)\n",
    "np.tan(np.pi) \n",
    "\n",
    "#逆三角関数\n",
    "np.arcsin(1)\n",
    "np.arccos(1)\n",
    "np.arctan(1) \n",
    "\n",
    "#指数関数\n",
    "np.exp(0)\n",
    "\n",
    "#対数関数\n",
    "np.log(1)\n",
    "np.log10(1)\n",
    "\n",
    "#絶対値\n",
    "np.abs(1);\n",
    "\n",
    "#円周率\n",
    "np.pi"
   ]
  },
  {
   "cell_type": "markdown",
   "metadata": {},
   "source": [
    "## NumPy配列に対する数学的な演算 演習"
   ]
  },
  {
   "cell_type": "code",
   "execution_count": null,
   "metadata": {},
   "outputs": [],
   "source": [
    "# 1〜10までの配列を生成し変数aに代入\n",
    "a=np.arange(1,11)\n",
    "a"
   ]
  },
  {
   "cell_type": "code",
   "execution_count": null,
   "metadata": {},
   "outputs": [],
   "source": [
    "#aの一次元配列を2行5列行列に変換\n",
    "b=a.reshape(2,5)\n",
    "b"
   ]
  },
  {
   "cell_type": "code",
   "execution_count": null,
   "metadata": {},
   "outputs": [],
   "source": [
    "#1〜5の一次元配列を生成\n",
    "b0=np.arange(1,6)\n",
    "# 6〜10の一次元配列を生成\n",
    "b1=np.arange(6,11)\n",
    "#配列の要素同士の演算\n",
    "print(b0+b1)\n",
    "print(b0-b1)\n",
    "#要素間の割り算の余りを出す\n",
    "print(b0%b1)\n",
    "#要素間の割り算の商を出す\n",
    "print(b0/b1)"
   ]
  },
  {
   "cell_type": "markdown",
   "metadata": {},
   "source": [
    "## 配列内部のデータ参照"
   ]
  },
  {
   "cell_type": "code",
   "execution_count": null,
   "metadata": {},
   "outputs": [],
   "source": [
    "#適当な配列を用意する\n",
    "a = np.array(list(\"あいうえお\"))\n",
    "#スライス\n",
    "a[[0,2]]#[\"あ\",\"う\"]"
   ]
  },
  {
   "cell_type": "code",
   "execution_count": null,
   "metadata": {},
   "outputs": [],
   "source": [
    "print(a[1:4])#[\"い\",\"う\",\"え\"]\n",
    "print(a[0:4:2])"
   ]
  },
  {
   "cell_type": "code",
   "execution_count": null,
   "metadata": {},
   "outputs": [],
   "source": [
    "b=np.array([[1,2,3],[4,5,6]])"
   ]
  },
  {
   "cell_type": "code",
   "execution_count": null,
   "metadata": {},
   "outputs": [],
   "source": [
    "b[1,2]#1行2列目を取り出す"
   ]
  },
  {
   "cell_type": "code",
   "execution_count": null,
   "metadata": {},
   "outputs": [],
   "source": [
    "b[:,2]#2列目を取り出す"
   ]
  },
  {
   "cell_type": "code",
   "execution_count": null,
   "metadata": {},
   "outputs": [],
   "source": [
    "b[:,[0,2]]#0列目と2列目"
   ]
  },
  {
   "cell_type": "code",
   "execution_count": null,
   "metadata": {},
   "outputs": [],
   "source": [
    "# 0〜24の一次元配列を生成し、5次正方行列に変換\n",
    "b = np.arange(25).reshape(5, 5)\n",
    "\n",
    "#3列目の要素すべて\n",
    "print(b[:,3] )\n",
    "#2行3列目の要素\n",
    "print(b[2,3] )"
   ]
  },
  {
   "cell_type": "code",
   "execution_count": null,
   "metadata": {},
   "outputs": [],
   "source": [
    "#(1, 3)行と(1, 3)列が交わる\n",
    "#2x2=4通りの組み合わせ\n",
    "b[1:4:2, 1:4:2]  "
   ]
  },
  {
   "cell_type": "code",
   "execution_count": null,
   "metadata": {},
   "outputs": [],
   "source": [
    "#対角成分の表示(行列番号が同じ成分)\n",
    "b[range(5),range(5)]\n",
    "\n",
    "#最終要素に存在する配列を取り出す\n",
    "#この例はb[-1,:]と等価\n",
    "b[-1] "
   ]
  },
  {
   "cell_type": "code",
   "execution_count": null,
   "metadata": {},
   "outputs": [],
   "source": [
    "#4x5の配列の生成\n",
    "a = np.arange(20).reshape((4,5))"
   ]
  },
  {
   "cell_type": "code",
   "execution_count": null,
   "metadata": {},
   "outputs": [],
   "source": [
    "#aの要素が3の倍数であれば1, そうでなければ0をかえす\n",
    "b = np.where((a>0)&(a%3 == 0), 1, 0)\n",
    "b"
   ]
  },
  {
   "cell_type": "markdown",
   "metadata": {},
   "source": [
    "## 配列内部のデータ参照 演習"
   ]
  },
  {
   "cell_type": "code",
   "execution_count": null,
   "metadata": {},
   "outputs": [],
   "source": [
    "array_1 = np.arange(1, 26).reshape(5, 5)\n",
    "print(array_1)"
   ]
  },
  {
   "cell_type": "code",
   "execution_count": null,
   "metadata": {},
   "outputs": [],
   "source": [
    "#(1,2)行, (1,2)列の交点を出力\n",
    "print(array_1[1:3,1:3])"
   ]
  }
 ],
 "metadata": {
  "kernelspec": {
   "display_name": "Python 3",
   "language": "python",
   "name": "python3"
  },
  "language_info": {
   "codemirror_mode": {
    "name": "ipython",
    "version": 3
   },
   "file_extension": ".py",
   "mimetype": "text/x-python",
   "name": "python",
   "nbconvert_exporter": "python",
   "pygments_lexer": "ipython3",
   "version": "3.7.3"
  }
 },
 "nbformat": 4,
 "nbformat_minor": 2
}
